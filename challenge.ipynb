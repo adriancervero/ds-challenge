{
 "cells": [
  {
   "cell_type": "markdown",
   "metadata": {},
   "source": [
    "# DS Challenge"
   ]
  },
  {
   "cell_type": "markdown",
   "metadata": {},
   "source": [
    "## Exercise 1"
   ]
  },
  {
   "cell_type": "code",
   "execution_count": 2,
   "metadata": {},
   "outputs": [
    {
     "name": "stdout",
     "output_type": "stream",
     "text": [
      "\n",
      "bzcat: I/O or other error, bailing out.  Possible reason follows.\n",
      "bzcat: Broken pipe\n",
      "\tInput file = data/bookings.csv.bz2, output file = (stdout)\n"
     ]
    }
   ],
   "source": [
    "!bzcat data/bookings.csv.bz2 | head -n 10000 >> data/bookings.sample.csv"
   ]
  },
  {
   "cell_type": "code",
   "execution_count": 1,
   "metadata": {},
   "outputs": [],
   "source": [
    "import bz2\n",
    "\n",
    "def count_lines(file_path):\n",
    "    count = 0\n",
    "    with bz2.BZ2File(file_path, 'r') as file:\n",
    "        for line in file:\n",
    "            count += 1\n",
    "    return count"
   ]
  },
  {
   "cell_type": "code",
   "execution_count": 2,
   "metadata": {},
   "outputs": [
    {
     "name": "stdout",
     "output_type": "stream",
     "text": [
      "CPU times: user 2min 35s, sys: 426 ms, total: 2min 35s\n",
      "Wall time: 2min 36s\n"
     ]
    },
    {
     "data": {
      "text/plain": [
       "10000011"
      ]
     },
     "execution_count": 2,
     "metadata": {},
     "output_type": "execute_result"
    }
   ],
   "source": [
    "%%time\n",
    "count_lines('data/bookings.csv.bz2')"
   ]
  },
  {
   "cell_type": "code",
   "execution_count": 3,
   "metadata": {},
   "outputs": [
    {
     "name": "stdout",
     "output_type": "stream",
     "text": [
      "CPU times: user 2min 27s, sys: 356 ms, total: 2min 27s\n",
      "Wall time: 2min 27s\n"
     ]
    },
    {
     "data": {
      "text/plain": [
       "20390199"
      ]
     },
     "execution_count": 3,
     "metadata": {},
     "output_type": "execute_result"
    }
   ],
   "source": [
    "%%time\n",
    "count_lines('data/searches.csv.bz2')"
   ]
  },
  {
   "cell_type": "markdown",
   "metadata": {},
   "source": [
    "## Exercise 2"
   ]
  },
  {
   "cell_type": "code",
   "execution_count": 1,
   "metadata": {},
   "outputs": [],
   "source": [
    "import pandas as pd\n",
    "chunksize = 1000\n",
    "bookings = pd.read_csv('data/bookings.csv.bz2', sep='^', chunksize=chunksize)"
   ]
  },
  {
   "cell_type": "code",
   "execution_count": 7,
   "metadata": {},
   "outputs": [],
   "source": [
    "df = bookings.read(10000)"
   ]
  },
  {
   "cell_type": "code",
   "execution_count": 10,
   "metadata": {},
   "outputs": [
    {
     "data": {
      "text/plain": [
       "(10000, 38)"
      ]
     },
     "execution_count": 10,
     "metadata": {},
     "output_type": "execute_result"
    }
   ],
   "source": [
    "df.shape"
   ]
  },
  {
   "cell_type": "code",
   "execution_count": 40,
   "metadata": {},
   "outputs": [],
   "source": [
    "pax_by_airport = df.groupby('arr_port')['pax'].sum()"
   ]
  },
  {
   "cell_type": "code",
   "execution_count": 8,
   "metadata": {},
   "outputs": [
    {
     "data": {
      "text/plain": [
       "arr_port\n",
       "DCA         50\n",
       "JFK         14\n",
       "FLL         13\n",
       "PVG         13\n",
       "SVO         12\n",
       "LGA         12\n",
       "CGK         12\n",
       "MIA         11\n",
       "LAS         11\n",
       "BOS         11\n",
       "Name: pax, dtype: int64"
      ]
     },
     "execution_count": 8,
     "metadata": {},
     "output_type": "execute_result"
    }
   ],
   "source": [
    "pax_by_airport.sort_values(ascending=False).head(10)"
   ]
  },
  {
   "cell_type": "code",
   "execution_count": 17,
   "metadata": {},
   "outputs": [],
   "source": [
    "df.columns = df.columns.str.strip()"
   ]
  },
  {
   "cell_type": "code",
   "execution_count": 95,
   "metadata": {},
   "outputs": [],
   "source": [
    "def top10_arr_airports_2013(bookings_filepath, chunksize=1e7):\n",
    "    bookings = pd.read_csv(bookings_filepath, sep='^', usecols=['pax','arr_port', 'year'], chunksize=chunksize)\n",
    "    total_pax_by_airport = pd.Series([],dtype=int)\n",
    "    for chunk in bookings:\n",
    "        year_2013 = chunk[chunk['year'] == 2013]\n",
    "        pax_by_airport = year_2013.groupby('arr_port')['pax'].sum()\n",
    "        total_pax_by_airport = total_pax_by_airport.add(pax_by_airport, fill_value=0)\n",
    "    return total_pax_by_airport.sort_values(ascending=False).head(10)"
   ]
  },
  {
   "cell_type": "code",
   "execution_count": 97,
   "metadata": {},
   "outputs": [
    {
     "name": "stdout",
     "output_type": "stream",
     "text": [
      "CPU times: user 2min 57s, sys: 983 ms, total: 2min 58s\n",
      "Wall time: 2min 58s\n"
     ]
    }
   ],
   "source": [
    "%%time\n",
    "top10_arr_airports = top10_arr_airports_2013('data/bookings.csv.bz2')"
   ]
  },
  {
   "cell_type": "code",
   "execution_count": 100,
   "metadata": {},
   "outputs": [],
   "source": [
    "#top10_arr_airports.to_csv('output/top10_arr_airports.csv')"
   ]
  },
  {
   "cell_type": "code",
   "execution_count": 53,
   "metadata": {},
   "outputs": [],
   "source": [
    "# Strip spaces in col. names\n",
    "df.columns = [col.strip() for col in df.columns]"
   ]
  },
  {
   "cell_type": "code",
   "execution_count": 52,
   "metadata": {},
   "outputs": [
    {
     "data": {
      "text/plain": [
       "Index(['act_date', 'source', 'pos_ctry', 'pos_iata', 'pos_oid', 'rloc',\n",
       "       'cre_date', 'duration', 'distance', 'dep_port', 'dep_city', 'dep_ctry',\n",
       "       'arr_port', 'arr_city', 'arr_ctry', 'lst_port', 'lst_city', 'lst_ctry',\n",
       "       'brd_port', 'brd_city', 'brd_ctry', 'off_port', 'off_city', 'off_ctry',\n",
       "       'mkt_port', 'mkt_city', 'mkt_ctry', 'intl', 'route', 'carrier',\n",
       "       'bkg_class', 'cab_class', 'brd_time', 'off_time', 'pax', 'year',\n",
       "       'month', 'oid'],\n",
       "      dtype='object')"
      ]
     },
     "execution_count": 52,
     "metadata": {},
     "output_type": "execute_result"
    }
   ],
   "source": [
    "df.columns"
   ]
  },
  {
   "cell_type": "markdown",
   "metadata": {},
   "source": [
    "## Exercise 3"
   ]
  },
  {
   "cell_type": "code",
   "execution_count": 1,
   "metadata": {},
   "outputs": [],
   "source": [
    "import pandas as pd\n",
    "chunksize=1000\n",
    "searches = pd.read_csv('data/searches.csv.bz2', sep='^', chunksize=chunksize)"
   ]
  },
  {
   "cell_type": "code",
   "execution_count": 173,
   "metadata": {},
   "outputs": [],
   "source": [
    "sample = searches.read(10000)"
   ]
  },
  {
   "cell_type": "code",
   "execution_count": 174,
   "metadata": {},
   "outputs": [
    {
     "data": {
      "text/html": [
       "<div>\n",
       "<style scoped>\n",
       "    .dataframe tbody tr th:only-of-type {\n",
       "        vertical-align: middle;\n",
       "    }\n",
       "\n",
       "    .dataframe tbody tr th {\n",
       "        vertical-align: top;\n",
       "    }\n",
       "\n",
       "    .dataframe thead th {\n",
       "        text-align: right;\n",
       "    }\n",
       "</style>\n",
       "<table border=\"1\" class=\"dataframe\">\n",
       "  <thead>\n",
       "    <tr style=\"text-align: right;\">\n",
       "      <th></th>\n",
       "      <th>Date</th>\n",
       "      <th>Time</th>\n",
       "      <th>TxnCode</th>\n",
       "      <th>OfficeID</th>\n",
       "      <th>Country</th>\n",
       "      <th>Origin</th>\n",
       "      <th>Destination</th>\n",
       "      <th>RoundTrip</th>\n",
       "      <th>NbSegments</th>\n",
       "      <th>Seg1Departure</th>\n",
       "      <th>...</th>\n",
       "      <th>Seg6Arrival</th>\n",
       "      <th>Seg6Date</th>\n",
       "      <th>Seg6Carrier</th>\n",
       "      <th>Seg6BookingCode</th>\n",
       "      <th>From</th>\n",
       "      <th>IsPublishedForNeg</th>\n",
       "      <th>IsFromInternet</th>\n",
       "      <th>IsFromVista</th>\n",
       "      <th>TerminalID</th>\n",
       "      <th>InternetOffice</th>\n",
       "    </tr>\n",
       "  </thead>\n",
       "  <tbody>\n",
       "    <tr>\n",
       "      <th>20000</th>\n",
       "      <td>2013-01-21</td>\n",
       "      <td>22:58:48</td>\n",
       "      <td>MPT</td>\n",
       "      <td>657f25ccd0a4120f111ff0014bd1816f</td>\n",
       "      <td>NO</td>\n",
       "      <td>OSL</td>\n",
       "      <td>DPS</td>\n",
       "      <td>1</td>\n",
       "      <td>2</td>\n",
       "      <td>OSL</td>\n",
       "      <td>...</td>\n",
       "      <td>NaN</td>\n",
       "      <td>NaN</td>\n",
       "      <td>NaN</td>\n",
       "      <td>NaN</td>\n",
       "      <td>1ASIWS</td>\n",
       "      <td>0</td>\n",
       "      <td>0</td>\n",
       "      <td>0</td>\n",
       "      <td>d41d8cd98f00b204e9800998ecf8427e</td>\n",
       "      <td>OSL</td>\n",
       "    </tr>\n",
       "    <tr>\n",
       "      <th>20001</th>\n",
       "      <td>2013-01-21</td>\n",
       "      <td>19:35:21</td>\n",
       "      <td>MPT</td>\n",
       "      <td>03ffd9c855fe9e61b8d3dc05758967ab</td>\n",
       "      <td>CA</td>\n",
       "      <td>YYZ</td>\n",
       "      <td>BKK</td>\n",
       "      <td>1</td>\n",
       "      <td>2</td>\n",
       "      <td>YYZ</td>\n",
       "      <td>...</td>\n",
       "      <td>NaN</td>\n",
       "      <td>NaN</td>\n",
       "      <td>NaN</td>\n",
       "      <td>NaN</td>\n",
       "      <td>1ASIWS</td>\n",
       "      <td>0</td>\n",
       "      <td>0</td>\n",
       "      <td>0</td>\n",
       "      <td>d41d8cd98f00b204e9800998ecf8427e</td>\n",
       "      <td>YTO</td>\n",
       "    </tr>\n",
       "    <tr>\n",
       "      <th>20002</th>\n",
       "      <td>2013-01-21</td>\n",
       "      <td>17:20:50</td>\n",
       "      <td>FCP</td>\n",
       "      <td>7da60d9e60a322d3fff7e00cb62baa53</td>\n",
       "      <td>BR</td>\n",
       "      <td>BEL</td>\n",
       "      <td>SAO</td>\n",
       "      <td>0</td>\n",
       "      <td>1</td>\n",
       "      <td>BEL</td>\n",
       "      <td>...</td>\n",
       "      <td>NaN</td>\n",
       "      <td>NaN</td>\n",
       "      <td>NaN</td>\n",
       "      <td>NaN</td>\n",
       "      <td>1ASIWS</td>\n",
       "      <td>0</td>\n",
       "      <td>0</td>\n",
       "      <td>0</td>\n",
       "      <td>d41d8cd98f00b204e9800998ecf8427e</td>\n",
       "      <td>SAO</td>\n",
       "    </tr>\n",
       "    <tr>\n",
       "      <th>20003</th>\n",
       "      <td>2013-01-21</td>\n",
       "      <td>14:33:27</td>\n",
       "      <td>FQD</td>\n",
       "      <td>e917152f2688581ec4c0f40d36439a4d</td>\n",
       "      <td>NO</td>\n",
       "      <td>LAX</td>\n",
       "      <td>AMS</td>\n",
       "      <td>1</td>\n",
       "      <td>2</td>\n",
       "      <td>LAX</td>\n",
       "      <td>...</td>\n",
       "      <td>NaN</td>\n",
       "      <td>NaN</td>\n",
       "      <td>NaN</td>\n",
       "      <td>NaN</td>\n",
       "      <td>1ASI</td>\n",
       "      <td>0</td>\n",
       "      <td>0</td>\n",
       "      <td>0</td>\n",
       "      <td>022e890a5a4b5e04ffd528027dd22de7</td>\n",
       "      <td>OSL</td>\n",
       "    </tr>\n",
       "    <tr>\n",
       "      <th>20004</th>\n",
       "      <td>2013-01-21</td>\n",
       "      <td>07:28:19</td>\n",
       "      <td>MPT</td>\n",
       "      <td>2b197e7490ac46000272c9550dc6de3f</td>\n",
       "      <td>CZ</td>\n",
       "      <td>LHR</td>\n",
       "      <td>TNR</td>\n",
       "      <td>0</td>\n",
       "      <td>2</td>\n",
       "      <td>LHR</td>\n",
       "      <td>...</td>\n",
       "      <td>NaN</td>\n",
       "      <td>NaN</td>\n",
       "      <td>NaN</td>\n",
       "      <td>NaN</td>\n",
       "      <td>1ASI</td>\n",
       "      <td>0</td>\n",
       "      <td>0</td>\n",
       "      <td>0</td>\n",
       "      <td>d41d8cd98f00b204e9800998ecf8427e</td>\n",
       "      <td>PRG</td>\n",
       "    </tr>\n",
       "  </tbody>\n",
       "</table>\n",
       "<p>5 rows × 45 columns</p>\n",
       "</div>"
      ],
      "text/plain": [
       "             Date      Time TxnCode                          OfficeID Country  \\\n",
       "20000  2013-01-21  22:58:48     MPT  657f25ccd0a4120f111ff0014bd1816f      NO   \n",
       "20001  2013-01-21  19:35:21     MPT  03ffd9c855fe9e61b8d3dc05758967ab      CA   \n",
       "20002  2013-01-21  17:20:50     FCP  7da60d9e60a322d3fff7e00cb62baa53      BR   \n",
       "20003  2013-01-21  14:33:27     FQD  e917152f2688581ec4c0f40d36439a4d      NO   \n",
       "20004  2013-01-21  07:28:19     MPT  2b197e7490ac46000272c9550dc6de3f      CZ   \n",
       "\n",
       "      Origin Destination  RoundTrip  NbSegments Seg1Departure  ...  \\\n",
       "20000    OSL         DPS          1           2           OSL  ...   \n",
       "20001    YYZ         BKK          1           2           YYZ  ...   \n",
       "20002    BEL         SAO          0           1           BEL  ...   \n",
       "20003    LAX         AMS          1           2           LAX  ...   \n",
       "20004    LHR         TNR          0           2           LHR  ...   \n",
       "\n",
       "      Seg6Arrival Seg6Date Seg6Carrier Seg6BookingCode    From  \\\n",
       "20000         NaN      NaN         NaN             NaN  1ASIWS   \n",
       "20001         NaN      NaN         NaN             NaN  1ASIWS   \n",
       "20002         NaN      NaN         NaN             NaN  1ASIWS   \n",
       "20003         NaN      NaN         NaN             NaN    1ASI   \n",
       "20004         NaN      NaN         NaN             NaN    1ASI   \n",
       "\n",
       "      IsPublishedForNeg IsFromInternet IsFromVista  \\\n",
       "20000                 0              0           0   \n",
       "20001                 0              0           0   \n",
       "20002                 0              0           0   \n",
       "20003                 0              0           0   \n",
       "20004                 0              0           0   \n",
       "\n",
       "                             TerminalID InternetOffice  \n",
       "20000  d41d8cd98f00b204e9800998ecf8427e            OSL  \n",
       "20001  d41d8cd98f00b204e9800998ecf8427e            YTO  \n",
       "20002  d41d8cd98f00b204e9800998ecf8427e            SAO  \n",
       "20003  022e890a5a4b5e04ffd528027dd22de7            OSL  \n",
       "20004  d41d8cd98f00b204e9800998ecf8427e            PRG  \n",
       "\n",
       "[5 rows x 45 columns]"
      ]
     },
     "execution_count": 174,
     "metadata": {},
     "output_type": "execute_result"
    }
   ],
   "source": [
    "sample.head()"
   ]
  },
  {
   "cell_type": "code",
   "execution_count": 175,
   "metadata": {},
   "outputs": [
    {
     "data": {
      "text/plain": [
       "Index(['Date', 'Time', 'TxnCode', 'OfficeID', 'Country', 'Origin',\n",
       "       'Destination', 'RoundTrip', 'NbSegments', 'Seg1Departure',\n",
       "       'Seg1Arrival', 'Seg1Date', 'Seg1Carrier', 'Seg1BookingCode',\n",
       "       'Seg2Departure', 'Seg2Arrival', 'Seg2Date', 'Seg2Carrier',\n",
       "       'Seg2BookingCode', 'Seg3Departure', 'Seg3Arrival', 'Seg3Date',\n",
       "       'Seg3Carrier', 'Seg3BookingCode', 'Seg4Departure', 'Seg4Arrival',\n",
       "       'Seg4Date', 'Seg4Carrier', 'Seg4BookingCode', 'Seg5Departure',\n",
       "       'Seg5Arrival', 'Seg5Date', 'Seg5Carrier', 'Seg5BookingCode',\n",
       "       'Seg6Departure', 'Seg6Arrival', 'Seg6Date', 'Seg6Carrier',\n",
       "       'Seg6BookingCode', 'From', 'IsPublishedForNeg', 'IsFromInternet',\n",
       "       'IsFromVista', 'TerminalID', 'InternetOffice'],\n",
       "      dtype='object')"
      ]
     },
     "execution_count": 175,
     "metadata": {},
     "output_type": "execute_result"
    }
   ],
   "source": [
    "sample.columns"
   ]
  },
  {
   "cell_type": "code",
   "execution_count": 176,
   "metadata": {},
   "outputs": [
    {
     "data": {
      "text/plain": [
       "20000    DPS\n",
       "20001    BKK\n",
       "20002    SAO\n",
       "20003    AMS\n",
       "20004    TNR\n",
       "        ... \n",
       "29995    BLR\n",
       "29996    PMI\n",
       "29997    BOG\n",
       "29998    PAR\n",
       "29999    OSL\n",
       "Name: Destination, Length: 10000, dtype: object"
      ]
     },
     "execution_count": 176,
     "metadata": {},
     "output_type": "execute_result"
    }
   ],
   "source": [
    "sample['Destination']"
   ]
  },
  {
   "cell_type": "code",
   "execution_count": 177,
   "metadata": {},
   "outputs": [],
   "source": [
    "cities = ['MAD', 'AGP', 'BCN']"
   ]
  },
  {
   "cell_type": "code",
   "execution_count": 178,
   "metadata": {},
   "outputs": [
    {
     "data": {
      "text/plain": [
       "Index(['Date', 'Time', 'TxnCode', 'OfficeID', 'Country', 'Origin',\n",
       "       'Destination', 'RoundTrip', 'NbSegments', 'Seg1Departure',\n",
       "       'Seg1Arrival', 'Seg1Date', 'Seg1Carrier', 'Seg1BookingCode',\n",
       "       'Seg2Departure', 'Seg2Arrival', 'Seg2Date', 'Seg2Carrier',\n",
       "       'Seg2BookingCode', 'Seg3Departure', 'Seg3Arrival', 'Seg3Date',\n",
       "       'Seg3Carrier', 'Seg3BookingCode', 'Seg4Departure', 'Seg4Arrival',\n",
       "       'Seg4Date', 'Seg4Carrier', 'Seg4BookingCode', 'Seg5Departure',\n",
       "       'Seg5Arrival', 'Seg5Date', 'Seg5Carrier', 'Seg5BookingCode',\n",
       "       'Seg6Departure', 'Seg6Arrival', 'Seg6Date', 'Seg6Carrier',\n",
       "       'Seg6BookingCode', 'From', 'IsPublishedForNeg', 'IsFromInternet',\n",
       "       'IsFromVista', 'TerminalID', 'InternetOffice'],\n",
       "      dtype='object')"
      ]
     },
     "execution_count": 178,
     "metadata": {},
     "output_type": "execute_result"
    }
   ],
   "source": [
    "sample.columns"
   ]
  },
  {
   "cell_type": "code",
   "execution_count": 179,
   "metadata": {},
   "outputs": [],
   "source": [
    "sample['Date'] = pd.to_datetime(sample['Date'])"
   ]
  },
  {
   "cell_type": "code",
   "execution_count": 180,
   "metadata": {},
   "outputs": [],
   "source": [
    "sample['Month'] = sample['Date'].dt.month"
   ]
  },
  {
   "cell_type": "code",
   "execution_count": null,
   "metadata": {},
   "outputs": [],
   "source": [
    "cities = sample['']"
   ]
  },
  {
   "cell_type": "code",
   "execution_count": 89,
   "metadata": {},
   "outputs": [
    {
     "data": {
      "text/plain": [
       "10000    01\n",
       "10001    01\n",
       "10002    01\n",
       "10003    01\n",
       "10004    01\n",
       "         ..\n",
       "19995    01\n",
       "19996    01\n",
       "19997    01\n",
       "19998    01\n",
       "19999    01\n",
       "Name: Date, Length: 10000, dtype: object"
      ]
     },
     "execution_count": 89,
     "metadata": {},
     "output_type": "execute_result"
    }
   ],
   "source": [
    "sample['Date'].apply(lambda x: x.split('-')[1])"
   ]
  },
  {
   "cell_type": "code",
   "execution_count": 194,
   "metadata": {},
   "outputs": [],
   "source": [
    "by_month = sample.groupby(['Destination', 'Month'])['Date'].count().reset_index()"
   ]
  },
  {
   "cell_type": "code",
   "execution_count": 195,
   "metadata": {},
   "outputs": [
    {
     "data": {
      "text/html": [
       "<div>\n",
       "<style scoped>\n",
       "    .dataframe tbody tr th:only-of-type {\n",
       "        vertical-align: middle;\n",
       "    }\n",
       "\n",
       "    .dataframe tbody tr th {\n",
       "        vertical-align: top;\n",
       "    }\n",
       "\n",
       "    .dataframe thead th {\n",
       "        text-align: right;\n",
       "    }\n",
       "</style>\n",
       "<table border=\"1\" class=\"dataframe\">\n",
       "  <thead>\n",
       "    <tr style=\"text-align: right;\">\n",
       "      <th></th>\n",
       "      <th>Destination</th>\n",
       "      <th>Month</th>\n",
       "      <th>Date</th>\n",
       "    </tr>\n",
       "  </thead>\n",
       "  <tbody>\n",
       "    <tr>\n",
       "      <th>0</th>\n",
       "      <td>AAE</td>\n",
       "      <td>1</td>\n",
       "      <td>1</td>\n",
       "    </tr>\n",
       "    <tr>\n",
       "      <th>1</th>\n",
       "      <td>AAL</td>\n",
       "      <td>1</td>\n",
       "      <td>2</td>\n",
       "    </tr>\n",
       "    <tr>\n",
       "      <th>2</th>\n",
       "      <td>AAQ</td>\n",
       "      <td>1</td>\n",
       "      <td>3</td>\n",
       "    </tr>\n",
       "    <tr>\n",
       "      <th>3</th>\n",
       "      <td>AAR</td>\n",
       "      <td>1</td>\n",
       "      <td>1</td>\n",
       "    </tr>\n",
       "    <tr>\n",
       "      <th>4</th>\n",
       "      <td>ABA</td>\n",
       "      <td>1</td>\n",
       "      <td>1</td>\n",
       "    </tr>\n",
       "    <tr>\n",
       "      <th>...</th>\n",
       "      <td>...</td>\n",
       "      <td>...</td>\n",
       "      <td>...</td>\n",
       "    </tr>\n",
       "    <tr>\n",
       "      <th>1053</th>\n",
       "      <td>ZNA</td>\n",
       "      <td>1</td>\n",
       "      <td>1</td>\n",
       "    </tr>\n",
       "    <tr>\n",
       "      <th>1054</th>\n",
       "      <td>ZNZ</td>\n",
       "      <td>1</td>\n",
       "      <td>1</td>\n",
       "    </tr>\n",
       "    <tr>\n",
       "      <th>1055</th>\n",
       "      <td>ZRH</td>\n",
       "      <td>1</td>\n",
       "      <td>46</td>\n",
       "    </tr>\n",
       "    <tr>\n",
       "      <th>1056</th>\n",
       "      <td>ZTH</td>\n",
       "      <td>1</td>\n",
       "      <td>1</td>\n",
       "    </tr>\n",
       "    <tr>\n",
       "      <th>1057</th>\n",
       "      <td>ZWS</td>\n",
       "      <td>1</td>\n",
       "      <td>1</td>\n",
       "    </tr>\n",
       "  </tbody>\n",
       "</table>\n",
       "<p>1058 rows × 3 columns</p>\n",
       "</div>"
      ],
      "text/plain": [
       "     Destination  Month  Date\n",
       "0            AAE      1     1\n",
       "1            AAL      1     2\n",
       "2            AAQ      1     3\n",
       "3            AAR      1     1\n",
       "4            ABA      1     1\n",
       "...          ...    ...   ...\n",
       "1053         ZNA      1     1\n",
       "1054         ZNZ      1     1\n",
       "1055         ZRH      1    46\n",
       "1056         ZTH      1     1\n",
       "1057         ZWS      1     1\n",
       "\n",
       "[1058 rows x 3 columns]"
      ]
     },
     "execution_count": 195,
     "metadata": {},
     "output_type": "execute_result"
    }
   ],
   "source": [
    "by_month"
   ]
  },
  {
   "cell_type": "code",
   "execution_count": 196,
   "metadata": {},
   "outputs": [
    {
     "data": {
      "text/html": [
       "<div>\n",
       "<style scoped>\n",
       "    .dataframe tbody tr th:only-of-type {\n",
       "        vertical-align: middle;\n",
       "    }\n",
       "\n",
       "    .dataframe tbody tr th {\n",
       "        vertical-align: top;\n",
       "    }\n",
       "\n",
       "    .dataframe thead th {\n",
       "        text-align: right;\n",
       "    }\n",
       "</style>\n",
       "<table border=\"1\" class=\"dataframe\">\n",
       "  <thead>\n",
       "    <tr style=\"text-align: right;\">\n",
       "      <th></th>\n",
       "      <th>Destination</th>\n",
       "      <th>Month</th>\n",
       "      <th>Date</th>\n",
       "    </tr>\n",
       "  </thead>\n",
       "  <tbody>\n",
       "  </tbody>\n",
       "</table>\n",
       "</div>"
      ],
      "text/plain": [
       "Empty DataFrame\n",
       "Columns: [Destination, Month, Date]\n",
       "Index: []"
      ]
     },
     "execution_count": 196,
     "metadata": {},
     "output_type": "execute_result"
    }
   ],
   "source": [
    "total = pd.DataFrame(columns=['Destination', 'Month','Date'])\n",
    "total"
   ]
  },
  {
   "cell_type": "code",
   "execution_count": 200,
   "metadata": {},
   "outputs": [
    {
     "data": {
      "text/plain": [
       "Destination  Month\n",
       "AAE          1         1\n",
       "AAL          1         2\n",
       "AAQ          1         3\n",
       "AAR          1         1\n",
       "ABA          1         1\n",
       "                      ..\n",
       "ZNA          1         1\n",
       "ZNZ          1         1\n",
       "ZRH          1        46\n",
       "ZTH          1         1\n",
       "ZWS          1         1\n",
       "Name: Date, Length: 1058, dtype: int64"
      ]
     },
     "execution_count": 200,
     "metadata": {},
     "output_type": "execute_result"
    }
   ],
   "source": [
    "total.merge(by_month, how='outer').groupby(['Destination', 'Month'])['Date'].sum()"
   ]
  },
  {
   "cell_type": "code",
   "execution_count": 211,
   "metadata": {},
   "outputs": [],
   "source": [
    "def monthly_searches(searches_filepath, chunksize=1e7):\n",
    "    searches = pd.read_csv(searches_filepath, sep='^', usecols=['Date', 'Destination'], chunksize=chunksize)\n",
    "    total = pd.DataFrame(columns=['Destination', 'Month', 'Date'])\n",
    "    for chunk in searches:\n",
    "        chunk['Month'] = chunk['Date'].apply(lambda x: x.split('-')[1])\n",
    "        by_month = chunk.groupby(['Destination', 'Month'])['Date'].count().reset_index()\n",
    "        total = total.merge(by_month, how='outer')\n",
    "    total = total.groupby(['Destination', 'Month'])['Date'].sum()\n",
    "    total.columns = 'Searches'\n",
    "    return total"
   ]
  },
  {
   "cell_type": "code",
   "execution_count": 204,
   "metadata": {},
   "outputs": [
    {
     "name": "stdout",
     "output_type": "stream",
     "text": [
      "CPU times: user 2min 46s, sys: 1.6 s, total: 2min 48s\n",
      "Wall time: 2min 48s\n"
     ]
    },
    {
     "data": {
      "text/plain": [
       "Destination  Month\n",
       "AAC          04        29\n",
       "AAE          01        29\n",
       "             02        58\n",
       "             03       145\n",
       "             04        87\n",
       "                     ... \n",
       "ZYR          08        58\n",
       "             09        57\n",
       "             10       113\n",
       "             11        56\n",
       "ZYZ          08        29\n",
       "Name: Date, Length: 19009, dtype: int64"
      ]
     },
     "execution_count": 204,
     "metadata": {},
     "output_type": "execute_result"
    }
   ],
   "source": [
    "%%time\n",
    "monthly_searches_by_city = monthly_searches('data/searches.csv.bz2')\n",
    "monthly_searches_by_city"
   ]
  },
  {
   "cell_type": "code",
   "execution_count": 210,
   "metadata": {},
   "outputs": [],
   "source": [
    "#monthly_searches_by_city.to_csv('output/monthy_searches_by_city.csv')"
   ]
  },
  {
   "cell_type": "code",
   "execution_count": 215,
   "metadata": {},
   "outputs": [],
   "source": [
    "#madrid.to_csv('output/madrid.csv')\n",
    "#malaga.to_csv('output/malaga.csv')\n",
    "#barcelona.to_csv('output/barcelona.csv')"
   ]
  },
  {
   "cell_type": "code",
   "execution_count": 7,
   "metadata": {},
   "outputs": [],
   "source": [
    "import pandas as pd\n",
    "monthly_searches_by_city = pd.read_csv('output/monthy_searches_by_city.csv')\n",
    "monthly_searches_by_city = monthly_searches_by_city.groupby(['Destination', 'Month'])['Date'].sum()"
   ]
  },
  {
   "cell_type": "code",
   "execution_count": 10,
   "metadata": {},
   "outputs": [
    {
     "data": {
      "image/png": "[encoded data removed]",
      "text/plain": [
       "<Figure size 1224x360 with 1 Axes>"
      ]
     },
     "metadata": {
      "needs_background": "light"
     },
     "output_type": "display_data"
    }
   ],
   "source": [
    "import matplotlib.pyplot as plt\n",
    "\n",
    "fig, ax = plt.subplots(1,1, figsize=(17,5))\n",
    "cities = ['MAD', 'AGP', 'BCN']\n",
    "for idx, city in enumerate(cities):\n",
    "    searches_city = monthly_searches_by_city.loc[city]\n",
    "    ax.plot(searches_city) \n",
    "    ax.set_title(city)\n",
    "    ax.set_xlabel('Month')\n",
    "    ax.set_ylabel('Number of searches');\n",
    "    ax.set_xticks(range(1,13));"
   ]
  },
  {
   "cell_type": "markdown",
   "metadata": {},
   "source": [
    "## Exercise 4"
   ]
  },
  {
   "cell_type": "code",
   "execution_count": 1,
   "metadata": {},
   "outputs": [],
   "source": [
    "import pandas as pd\n",
    "chunksize=1e6\n",
    "\n",
    "searches = pd.read_csv('data/searches.csv.bz2', sep='^', chunksize=chunksize)"
   ]
  },
  {
   "cell_type": "markdown",
   "metadata": {},
   "source": [
    "### Removing duplicates"
   ]
  },
  {
   "cell_type": "code",
   "execution_count": 2,
   "metadata": {},
   "outputs": [
    {
     "name": "stderr",
     "output_type": "stream",
     "text": [
      "<decorator-gen-61>:2: DtypeWarning: Columns (44) have mixed types.Specify dtype option on import or set low_memory=False.\n"
     ]
    },
    {
     "name": "stdout",
     "output_type": "stream",
     "text": [
      "0 0\n"
     ]
    },
    {
     "name": "stderr",
     "output_type": "stream",
     "text": [
      "<decorator-gen-61>:2: DtypeWarning: Columns (40,41,42,44) have mixed types.Specify dtype option on import or set low_memory=False.\n"
     ]
    },
    {
     "name": "stdout",
     "output_type": "stream",
     "text": [
      "1 363343\n",
      "2 389521\n",
      "3 399321\n",
      "4 415079\n",
      "5 415079\n",
      "6 415079\n",
      "7 415079\n",
      "8 421663\n",
      "9 421663\n",
      "10 421663\n",
      "11 421871\n",
      "12 421871\n"
     ]
    },
    {
     "name": "stderr",
     "output_type": "stream",
     "text": [
      "<decorator-gen-61>:2: DtypeWarning: Columns (29,30,31,32,33,34,35,36,37,38,44) have mixed types.Specify dtype option on import or set low_memory=False.\n"
     ]
    },
    {
     "name": "stdout",
     "output_type": "stream",
     "text": [
      "13 421871\n",
      "14 421871\n",
      "15 421975\n",
      "16 421975\n",
      "17 421975\n",
      "18 422183\n",
      "19 422183\n",
      "20 422183\n",
      "CPU times: user 5min 34s, sys: 20.1 s, total: 5min 54s\n",
      "Wall time: 5min 55s\n"
     ]
    }
   ],
   "source": [
    "%%time\n",
    "searches_cleaned = pd.DataFrame()\n",
    "for n, chunk in enumerate(searches):\n",
    "    print(n, searches_cleaned.shape[0])\n",
    "    searches_cleaned = searches_cleaned.append(chunk).drop_duplicates()"
   ]
  },
  {
   "cell_type": "code",
   "execution_count": 5,
   "metadata": {},
   "outputs": [],
   "source": [
    "searches_cleaned.to_csv('data/searches_cleaned.csv', index=False)"
   ]
  },
  {
   "cell_type": "code",
   "execution_count": 12,
   "metadata": {},
   "outputs": [
    {
     "name": "stdout",
     "output_type": "stream",
     "text": [
      "0 422184\n",
      "1 422184\n",
      "2 422184\n",
      "3 422184\n",
      "4 422184\n"
     ]
    },
    {
     "name": "stderr",
     "output_type": "stream",
     "text": [
      "<decorator-gen-61>:2: DtypeWarning: Columns (7,8,27) have mixed types.Specify dtype option on import or set low_memory=False.\n"
     ]
    },
    {
     "name": "stdout",
     "output_type": "stream",
     "text": [
      "5 422184\n",
      "6 422184\n",
      "7 422184\n",
      "8 422184\n",
      "9 422184\n",
      "10 422184\n",
      "CPU times: user 4min 9s, sys: 11 s, total: 4min 20s\n",
      "Wall time: 4min 20s\n"
     ]
    }
   ],
   "source": [
    "%%time\n",
    "bookings = pd.read_csv('data/bookings.csv.bz2', sep='^', chunksize=chunksize)\n",
    "bookings_cleaned = pd.DataFrame()\n",
    "for n, chunk in enumerate(bookings):\n",
    "    print(n, searches_cleaned.shape[0])\n",
    "    bookings_cleaned = bookings_cleaned.append(chunk).drop_duplicates()"
   ]
  },
  {
   "cell_type": "code",
   "execution_count": 13,
   "metadata": {},
   "outputs": [],
   "source": [
    "bookings_cleaned.columns = bookings_cleaned.columns.str.strip()"
   ]
  },
  {
   "cell_type": "code",
   "execution_count": 14,
   "metadata": {},
   "outputs": [],
   "source": [
    "bookings_cleaned.to_csv('data/bookings_cleaned.csv', index=False)"
   ]
  },
  {
   "cell_type": "markdown",
   "metadata": {},
   "source": [
    "### Matching searches and bookings"
   ]
  },
  {
   "cell_type": "code",
   "execution_count": 22,
   "metadata": {},
   "outputs": [],
   "source": [
    "import warnings\n",
    "warnings.filterwarnings('ignore')"
   ]
  },
  {
   "cell_type": "code",
   "execution_count": 15,
   "metadata": {},
   "outputs": [
    {
     "data": {
      "text/plain": [
       "Index(['Date', 'Time', 'TxnCode', 'OfficeID', 'Country', 'Origin',\n",
       "       'Destination', 'RoundTrip', 'NbSegments', 'Seg1Departure',\n",
       "       'Seg1Arrival', 'Seg1Date', 'Seg1Carrier', 'Seg1BookingCode',\n",
       "       'Seg2Departure', 'Seg2Arrival', 'Seg2Date', 'Seg2Carrier',\n",
       "       'Seg2BookingCode', 'Seg3Departure', 'Seg3Arrival', 'Seg3Date',\n",
       "       'Seg3Carrier', 'Seg3BookingCode', 'Seg4Departure', 'Seg4Arrival',\n",
       "       'Seg4Date', 'Seg4Carrier', 'Seg4BookingCode', 'Seg5Departure',\n",
       "       'Seg5Arrival', 'Seg5Date', 'Seg5Carrier', 'Seg5BookingCode',\n",
       "       'Seg6Departure', 'Seg6Arrival', 'Seg6Date', 'Seg6Carrier',\n",
       "       'Seg6BookingCode', 'From', 'IsPublishedForNeg', 'IsFromInternet',\n",
       "       'IsFromVista', 'TerminalID', 'InternetOffice'],\n",
       "      dtype='object')"
      ]
     },
     "execution_count": 15,
     "metadata": {},
     "output_type": "execute_result"
    }
   ],
   "source": [
    "searches_cleaned.columns"
   ]
  },
  {
   "cell_type": "code",
   "execution_count": 16,
   "metadata": {},
   "outputs": [
    {
     "data": {
      "text/plain": [
       "Index(['act_date', 'source', 'pos_ctry', 'pos_iata', 'pos_oid', 'rloc',\n",
       "       'cre_date', 'duration', 'distance', 'dep_port', 'dep_city', 'dep_ctry',\n",
       "       'arr_port', 'arr_city', 'arr_ctry', 'lst_port', 'lst_city', 'lst_ctry',\n",
       "       'brd_port', 'brd_city', 'brd_ctry', 'off_port', 'off_city', 'off_ctry',\n",
       "       'mkt_port', 'mkt_city', 'mkt_ctry', 'intl', 'route', 'carrier',\n",
       "       'bkg_class', 'cab_class', 'brd_time', 'off_time', 'pax', 'year',\n",
       "       'month', 'oid'],\n",
       "      dtype='object')"
      ]
     },
     "execution_count": 16,
     "metadata": {},
     "output_type": "execute_result"
    }
   ],
   "source": [
    "bookings_cleaned.columns"
   ]
  },
  {
   "cell_type": "markdown",
   "metadata": {},
   "source": [
    "Prepare bookings:\n",
    "* Select matching columns\n",
    "* Add 'Booked' Column\n",
    "* Change date format\n",
    "* Remove white spaces in string columns"
   ]
  },
  {
   "cell_type": "code",
   "execution_count": 71,
   "metadata": {},
   "outputs": [],
   "source": [
    "bookings = bookings_cleaned[['cre_date', 'dep_port', 'arr_port', 'pax']]\n",
    "bookings['Booked'] = bookings['pax'].apply(lambda pax: 0 if pax <= 0 else 1)\n",
    "bookings['cre_date'] = bookings['cre_date'].apply(lambda x: x.split()[0])\n",
    "for col in ['dep_port', 'arr_port']:\n",
    "    bookings[col] = bookings[col].apply(lambda x: x.strip())"
   ]
  },
  {
   "cell_type": "code",
   "execution_count": 72,
   "metadata": {},
   "outputs": [
    {
     "data": {
      "text/html": [
       "<div>\n",
       "<style scoped>\n",
       "    .dataframe tbody tr th:only-of-type {\n",
       "        vertical-align: middle;\n",
       "    }\n",
       "\n",
       "    .dataframe tbody tr th {\n",
       "        vertical-align: top;\n",
       "    }\n",
       "\n",
       "    .dataframe thead th {\n",
       "        text-align: right;\n",
       "    }\n",
       "</style>\n",
       "<table border=\"1\" class=\"dataframe\">\n",
       "  <thead>\n",
       "    <tr style=\"text-align: right;\">\n",
       "      <th></th>\n",
       "      <th>cre_date</th>\n",
       "      <th>dep_port</th>\n",
       "      <th>arr_port</th>\n",
       "      <th>pax</th>\n",
       "      <th>Booked</th>\n",
       "    </tr>\n",
       "  </thead>\n",
       "  <tbody>\n",
       "    <tr>\n",
       "      <th>0</th>\n",
       "      <td>2013-02-22</td>\n",
       "      <td>ZRH</td>\n",
       "      <td>LHR</td>\n",
       "      <td>-1.0</td>\n",
       "      <td>0</td>\n",
       "    </tr>\n",
       "    <tr>\n",
       "      <th>1</th>\n",
       "      <td>2013-03-26</td>\n",
       "      <td>SAL</td>\n",
       "      <td>CLT</td>\n",
       "      <td>1.0</td>\n",
       "      <td>1</td>\n",
       "    </tr>\n",
       "    <tr>\n",
       "      <th>2</th>\n",
       "      <td>2013-03-26</td>\n",
       "      <td>SAL</td>\n",
       "      <td>CLT</td>\n",
       "      <td>1.0</td>\n",
       "      <td>1</td>\n",
       "    </tr>\n",
       "    <tr>\n",
       "      <th>3</th>\n",
       "      <td>2013-03-26</td>\n",
       "      <td>AKL</td>\n",
       "      <td>SVO</td>\n",
       "      <td>1.0</td>\n",
       "      <td>1</td>\n",
       "    </tr>\n",
       "    <tr>\n",
       "      <th>4</th>\n",
       "      <td>2013-03-26</td>\n",
       "      <td>AKL</td>\n",
       "      <td>SVO</td>\n",
       "      <td>1.0</td>\n",
       "      <td>1</td>\n",
       "    </tr>\n",
       "  </tbody>\n",
       "</table>\n",
       "</div>"
      ],
      "text/plain": [
       "     cre_date dep_port arr_port  pax  Booked\n",
       "0  2013-02-22      ZRH      LHR -1.0       0\n",
       "1  2013-03-26      SAL      CLT  1.0       1\n",
       "2  2013-03-26      SAL      CLT  1.0       1\n",
       "3  2013-03-26      AKL      SVO  1.0       1\n",
       "4  2013-03-26      AKL      SVO  1.0       1"
      ]
     },
     "execution_count": 72,
     "metadata": {},
     "output_type": "execute_result"
    }
   ],
   "source": [
    "bookings.head()"
   ]
  },
  {
   "cell_type": "code",
   "execution_count": 73,
   "metadata": {},
   "outputs": [],
   "source": [
    "searches = searches_cleaned[['Date', 'Origin', 'Destination']]"
   ]
  },
  {
   "cell_type": "code",
   "execution_count": 74,
   "metadata": {},
   "outputs": [],
   "source": [
    "merged = pd.merge(left=searches_cleaned, left_on=['Date', 'Origin', 'Destination'],\n",
    "                  right=bookings, right_on=['cre_date', 'dep_port', 'arr_port'], how='left')"
   ]
  },
  {
   "cell_type": "code",
   "execution_count": 75,
   "metadata": {},
   "outputs": [
    {
     "data": {
      "text/plain": [
       "(460980, 50)"
      ]
     },
     "execution_count": 75,
     "metadata": {},
     "output_type": "execute_result"
    }
   ],
   "source": [
    "merged.shape"
   ]
  },
  {
   "cell_type": "code",
   "execution_count": 76,
   "metadata": {},
   "outputs": [
    {
     "data": {
      "text/plain": [
       "406976"
      ]
     },
     "execution_count": 76,
     "metadata": {},
     "output_type": "execute_result"
    }
   ],
   "source": [
    "merged['Booked'].isna().sum()"
   ]
  },
  {
   "cell_type": "code",
   "execution_count": 77,
   "metadata": {},
   "outputs": [
    {
     "data": {
      "text/plain": [
       "0"
      ]
     },
     "execution_count": 77,
     "metadata": {},
     "output_type": "execute_result"
    }
   ],
   "source": [
    "merged['Booked'].fillna(0, inplace=True)\n",
    "merged['Booked'].isna().sum()"
   ]
  },
  {
   "cell_type": "code",
   "execution_count": 78,
   "metadata": {},
   "outputs": [
    {
     "data": {
      "text/plain": [
       "0.0    423029\n",
       "1.0     37951\n",
       "Name: Booked, dtype: int64"
      ]
     },
     "execution_count": 78,
     "metadata": {},
     "output_type": "execute_result"
    }
   ],
   "source": [
    "merged['Booked'].value_counts()"
   ]
  },
  {
   "cell_type": "code",
   "execution_count": 79,
   "metadata": {},
   "outputs": [],
   "source": [
    "merged.drop(['cre_date', 'dep_port', 'arr_port', 'pax'], axis=1, inplace=True)"
   ]
  },
  {
   "cell_type": "code",
   "execution_count": 69,
   "metadata": {},
   "outputs": [],
   "source": [
    "#merged.to_csv('output/searches_bookings.csv', index=False)"
   ]
  },
  {
   "cell_type": "code",
   "execution_count": null,
   "metadata": {},
   "outputs": [],
   "source": []
  }
 ],
 "metadata": {
  "kernelspec": {
   "display_name": "Python 3",
   "language": "python",
   "name": "python3"
  },
  "language_info": {
   "codemirror_mode": {
    "name": "ipython",
    "version": 3
   },
   "file_extension": ".py",
   "mimetype": "text/x-python",
   "name": "python",
   "nbconvert_exporter": "python",
   "pygments_lexer": "ipython3",
   "version": "3.8.3"
  }
 },
 "nbformat": 4,
 "nbformat_minor": 4
}
